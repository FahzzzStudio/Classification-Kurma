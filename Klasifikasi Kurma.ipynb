{
 "cells": [
  {
   "cell_type": "code",
   "execution_count": 42,
   "id": "a2437b94-acfd-4f41-8a1d-2a6fc7f9b78c",
   "metadata": {},
   "outputs": [],
   "source": [
    "import pandas as pd\n",
    "import matplotlib.pyplot as plt\n",
    "from sklearn.linear_model import LogisticRegression\n",
    "from sklearn.model_selection import train_test_split, cross_val_score,GridSearchCV\n",
    "from sklearn.metrics import accuracy_score, classification_report, confusion_matrix\n",
    "from sklearn.preprocessing import StandardScaler, OneHotEncoder, OrdinalEncoder\n",
    "from sklearn.pipeline import Pipeline\n",
    "from sklearn.compose import ColumnTransformer\n",
    "import joblib"
   ]
  },
  {
   "cell_type": "code",
   "execution_count": 3,
   "id": "99060454-b3a8-4bb9-b202-f51c68ea8fdf",
   "metadata": {},
   "outputs": [
    {
     "data": {
      "text/html": [
       "<div>\n",
       "<style scoped>\n",
       "    .dataframe tbody tr th:only-of-type {\n",
       "        vertical-align: middle;\n",
       "    }\n",
       "\n",
       "    .dataframe tbody tr th {\n",
       "        vertical-align: top;\n",
       "    }\n",
       "\n",
       "    .dataframe thead th {\n",
       "        text-align: right;\n",
       "    }\n",
       "</style>\n",
       "<table border=\"1\" class=\"dataframe\">\n",
       "  <thead>\n",
       "    <tr style=\"text-align: right;\">\n",
       "      <th></th>\n",
       "      <th>berat</th>\n",
       "      <th>kadar_gula</th>\n",
       "      <th>warna</th>\n",
       "      <th>tekstur</th>\n",
       "      <th>tingkat_kematangan</th>\n",
       "      <th>jenis</th>\n",
       "    </tr>\n",
       "  </thead>\n",
       "  <tbody>\n",
       "    <tr>\n",
       "      <th>0</th>\n",
       "      <td>14</td>\n",
       "      <td>75</td>\n",
       "      <td>kecoklatan</td>\n",
       "      <td>kasar</td>\n",
       "      <td>setengah matang</td>\n",
       "      <td>medjool</td>\n",
       "    </tr>\n",
       "    <tr>\n",
       "      <th>1</th>\n",
       "      <td>14</td>\n",
       "      <td>77</td>\n",
       "      <td>kecoklatan</td>\n",
       "      <td>kasar</td>\n",
       "      <td>setengah matang</td>\n",
       "      <td>ajwa</td>\n",
       "    </tr>\n",
       "    <tr>\n",
       "      <th>2</th>\n",
       "      <td>12</td>\n",
       "      <td>60</td>\n",
       "      <td>kehitaman</td>\n",
       "      <td>halus</td>\n",
       "      <td>terlalu matang</td>\n",
       "      <td>ajwa</td>\n",
       "    </tr>\n",
       "    <tr>\n",
       "      <th>3</th>\n",
       "      <td>17</td>\n",
       "      <td>82</td>\n",
       "      <td>kecoklatan</td>\n",
       "      <td>kasar</td>\n",
       "      <td>terlalu matang</td>\n",
       "      <td>medjool</td>\n",
       "    </tr>\n",
       "    <tr>\n",
       "      <th>4</th>\n",
       "      <td>9</td>\n",
       "      <td>73</td>\n",
       "      <td>kehitaman</td>\n",
       "      <td>agak kasar</td>\n",
       "      <td>matang</td>\n",
       "      <td>ajwa</td>\n",
       "    </tr>\n",
       "    <tr>\n",
       "      <th>...</th>\n",
       "      <td>...</td>\n",
       "      <td>...</td>\n",
       "      <td>...</td>\n",
       "      <td>...</td>\n",
       "      <td>...</td>\n",
       "      <td>...</td>\n",
       "    </tr>\n",
       "    <tr>\n",
       "      <th>495</th>\n",
       "      <td>16</td>\n",
       "      <td>74</td>\n",
       "      <td>kecoklatan</td>\n",
       "      <td>halus</td>\n",
       "      <td>setengah matang</td>\n",
       "      <td>sukkari</td>\n",
       "    </tr>\n",
       "    <tr>\n",
       "      <th>496</th>\n",
       "      <td>16</td>\n",
       "      <td>77</td>\n",
       "      <td>kecoklatan</td>\n",
       "      <td>agak kasar</td>\n",
       "      <td>matang</td>\n",
       "      <td>sukkari</td>\n",
       "    </tr>\n",
       "    <tr>\n",
       "      <th>497</th>\n",
       "      <td>16</td>\n",
       "      <td>88</td>\n",
       "      <td>kecoklatan</td>\n",
       "      <td>kasar</td>\n",
       "      <td>matang</td>\n",
       "      <td>medjool</td>\n",
       "    </tr>\n",
       "    <tr>\n",
       "      <th>498</th>\n",
       "      <td>11</td>\n",
       "      <td>68</td>\n",
       "      <td>kehitaman</td>\n",
       "      <td>agak kasar</td>\n",
       "      <td>matang</td>\n",
       "      <td>ajwa</td>\n",
       "    </tr>\n",
       "    <tr>\n",
       "      <th>499</th>\n",
       "      <td>14</td>\n",
       "      <td>70</td>\n",
       "      <td>kecoklatan</td>\n",
       "      <td>halus</td>\n",
       "      <td>terlalu matang</td>\n",
       "      <td>sukkari</td>\n",
       "    </tr>\n",
       "  </tbody>\n",
       "</table>\n",
       "<p>500 rows × 6 columns</p>\n",
       "</div>"
      ],
      "text/plain": [
       "     berat  kadar_gula       warna     tekstur tingkat_kematangan    jenis\n",
       "0       14          75  kecoklatan       kasar    setengah matang  medjool\n",
       "1       14          77  kecoklatan       kasar    setengah matang     ajwa\n",
       "2       12          60   kehitaman       halus     terlalu matang     ajwa\n",
       "3       17          82  kecoklatan       kasar     terlalu matang  medjool\n",
       "4        9          73   kehitaman  agak kasar             matang     ajwa\n",
       "..     ...         ...         ...         ...                ...      ...\n",
       "495     16          74  kecoklatan       halus    setengah matang  sukkari\n",
       "496     16          77  kecoklatan  agak kasar             matang  sukkari\n",
       "497     16          88  kecoklatan       kasar             matang  medjool\n",
       "498     11          68   kehitaman  agak kasar             matang     ajwa\n",
       "499     14          70  kecoklatan       halus     terlalu matang  sukkari\n",
       "\n",
       "[500 rows x 6 columns]"
      ]
     },
     "execution_count": 3,
     "metadata": {},
     "output_type": "execute_result"
    }
   ],
   "source": [
    "df = pd.read_csv(\"dataset_kurma.csv\")\n",
    "df"
   ]
  },
  {
   "cell_type": "code",
   "execution_count": 9,
   "id": "026e4441-f397-457d-a5dc-fc3115d8e4f7",
   "metadata": {},
   "outputs": [
    {
     "data": {
      "text/plain": [
       "(500, 6)"
      ]
     },
     "execution_count": 9,
     "metadata": {},
     "output_type": "execute_result"
    }
   ],
   "source": [
    "df.shape"
   ]
  },
  {
   "cell_type": "code",
   "execution_count": 8,
   "id": "63044261-dc27-4815-b620-5c885c924727",
   "metadata": {},
   "outputs": [
    {
     "data": {
      "text/plain": [
       "Index(['berat', 'kadar_gula', 'warna', 'tekstur', 'tingkat_kematangan',\n",
       "       'jenis'],\n",
       "      dtype='object')"
      ]
     },
     "execution_count": 8,
     "metadata": {},
     "output_type": "execute_result"
    }
   ],
   "source": [
    "# Menampilkan kolom pada dataset\n",
    "df.columns"
   ]
  },
  {
   "cell_type": "code",
   "execution_count": 7,
   "id": "49ebe3f0-97e6-4175-891b-b6b175a7caec",
   "metadata": {},
   "outputs": [
    {
     "data": {
      "text/plain": [
       "berat                  int64\n",
       "kadar_gula             int64\n",
       "warna                 object\n",
       "tekstur               object\n",
       "tingkat_kematangan    object\n",
       "jenis                 object\n",
       "dtype: object"
      ]
     },
     "execution_count": 7,
     "metadata": {},
     "output_type": "execute_result"
    }
   ],
   "source": [
    "# Menampilkan kolom dan jenis datanya\n",
    "df.dtypes"
   ]
  },
  {
   "cell_type": "code",
   "execution_count": 13,
   "id": "77160d43-119e-4ed7-b404-411cd1145176",
   "metadata": {},
   "outputs": [
    {
     "data": {
      "text/plain": [
       "tekstur\n",
       "agak kasar    268\n",
       "halus         149\n",
       "kasar          83\n",
       "Name: count, dtype: int64"
      ]
     },
     "execution_count": 13,
     "metadata": {},
     "output_type": "execute_result"
    }
   ],
   "source": [
    "df[\"tekstur\"].value_counts()"
   ]
  },
  {
   "cell_type": "code",
   "execution_count": 10,
   "id": "40a790a5-bb7d-436f-bc70-9fbaf17a7cb8",
   "metadata": {},
   "outputs": [
    {
     "data": {
      "text/plain": [
       "tingkat_kematangan\n",
       "terlalu matang     186\n",
       "setengah matang    160\n",
       "matang             154\n",
       "Name: count, dtype: int64"
      ]
     },
     "execution_count": 10,
     "metadata": {},
     "output_type": "execute_result"
    }
   ],
   "source": [
    "df[\"tingkat_kematangan\"].value_counts()"
   ]
  },
  {
   "cell_type": "code",
   "execution_count": 12,
   "id": "fd957680-ff96-4e9f-964f-b948e9282c36",
   "metadata": {},
   "outputs": [
    {
     "data": {
      "text/plain": [
       "jenis\n",
       "sukkari    198\n",
       "medjool    156\n",
       "ajwa       146\n",
       "Name: count, dtype: int64"
      ]
     },
     "execution_count": 12,
     "metadata": {},
     "output_type": "execute_result"
    }
   ],
   "source": [
    "df[\"jenis\"].value_counts()"
   ]
  },
  {
   "cell_type": "code",
   "execution_count": 14,
   "id": "0ca11eca-f728-4985-93d7-b15f0afc8169",
   "metadata": {},
   "outputs": [
    {
     "data": {
      "text/html": [
       "<div>\n",
       "<style scoped>\n",
       "    .dataframe tbody tr th:only-of-type {\n",
       "        vertical-align: middle;\n",
       "    }\n",
       "\n",
       "    .dataframe tbody tr th {\n",
       "        vertical-align: top;\n",
       "    }\n",
       "\n",
       "    .dataframe thead th {\n",
       "        text-align: right;\n",
       "    }\n",
       "</style>\n",
       "<table border=\"1\" class=\"dataframe\">\n",
       "  <thead>\n",
       "    <tr style=\"text-align: right;\">\n",
       "      <th></th>\n",
       "      <th>berat</th>\n",
       "      <th>kadar_gula</th>\n",
       "    </tr>\n",
       "  </thead>\n",
       "  <tbody>\n",
       "    <tr>\n",
       "      <th>count</th>\n",
       "      <td>500.000000</td>\n",
       "      <td>500.000000</td>\n",
       "    </tr>\n",
       "    <tr>\n",
       "      <th>mean</th>\n",
       "      <td>13.316000</td>\n",
       "      <td>76.378000</td>\n",
       "    </tr>\n",
       "    <tr>\n",
       "      <th>std</th>\n",
       "      <td>3.252276</td>\n",
       "      <td>7.717917</td>\n",
       "    </tr>\n",
       "    <tr>\n",
       "      <th>min</th>\n",
       "      <td>8.000000</td>\n",
       "      <td>60.000000</td>\n",
       "    </tr>\n",
       "    <tr>\n",
       "      <th>25%</th>\n",
       "      <td>11.000000</td>\n",
       "      <td>71.000000</td>\n",
       "    </tr>\n",
       "    <tr>\n",
       "      <th>50%</th>\n",
       "      <td>13.000000</td>\n",
       "      <td>77.000000</td>\n",
       "    </tr>\n",
       "    <tr>\n",
       "      <th>75%</th>\n",
       "      <td>16.000000</td>\n",
       "      <td>83.000000</td>\n",
       "    </tr>\n",
       "    <tr>\n",
       "      <th>max</th>\n",
       "      <td>20.000000</td>\n",
       "      <td>90.000000</td>\n",
       "    </tr>\n",
       "  </tbody>\n",
       "</table>\n",
       "</div>"
      ],
      "text/plain": [
       "            berat  kadar_gula\n",
       "count  500.000000  500.000000\n",
       "mean    13.316000   76.378000\n",
       "std      3.252276    7.717917\n",
       "min      8.000000   60.000000\n",
       "25%     11.000000   71.000000\n",
       "50%     13.000000   77.000000\n",
       "75%     16.000000   83.000000\n",
       "max     20.000000   90.000000"
      ]
     },
     "execution_count": 14,
     "metadata": {},
     "output_type": "execute_result"
    }
   ],
   "source": [
    "df.describe()"
   ]
  },
  {
   "cell_type": "code",
   "execution_count": 35,
   "id": "39df6adb-0395-4187-a0a4-5cda19f132db",
   "metadata": {},
   "outputs": [
    {
     "data": {
      "image/png": "[encoded data removed]",
      "text/plain": [
       "<Figure size 600x500 with 1 Axes>"
      ]
     },
     "metadata": {},
     "output_type": "display_data"
    }
   ],
   "source": [
    "ajwa = df[df[\"jenis\"]==\"ajwa\"]\n",
    "medjool = df[df[\"jenis\"]==\"medjool\"]\n",
    "sukkari = df[df[\"jenis\"]==\"sukkari\"]\n",
    "# Usahakan tidak tampil eror\n",
    "\n",
    "# Jika ingin tampilkan ketik saja salah satu nama\n",
    "\n",
    "plt.figure(figsize=(6,5))\n",
    "\n",
    "plt.scatter(ajwa[\"berat\"], ajwa[\"kadar_gula\"],\n",
    "           s=100, color=\"green\", alpha=0.7, label=\"Ajwa\")\n",
    "plt.scatter(medjool[\"berat\"], medjool[\"kadar_gula\"],\n",
    "            s=100, color=\"orange\", alpha=0.7, label=\"Medjool\")\n",
    "plt.scatter(sukkari[\"berat\"], sukkari[\"kadar_gula\"],\n",
    "            s=100, color=\"blue\", alpha=0.7, label=\"Sukkari\")\n",
    "\n",
    "plt.xlabel(\"Berat\")\n",
    "plt.ylabel(\"Kadar Gula\")\n",
    "plt.title(\"Berat  vs Kadar Gula Setiap Jenis Kurma\")\n",
    "plt.legend()\n",
    "plt.grid(True, linestyle=\"-\", alpha=0.5)\n",
    "plt.xticks(rotation=0)\n",
    "plt.show()"
   ]
  },
  {
   "cell_type": "code",
   "execution_count": 39,
   "id": "5d084ae1-7993-4a5d-b4a1-8ee3d6f45274",
   "metadata": {},
   "outputs": [
    {
     "data": {
      "image/png": "[encoded data removed]",
      "text/plain": [
       "<Figure size 640x480 with 1 Axes>"
      ]
     },
     "metadata": {},
     "output_type": "display_data"
    }
   ],
   "source": [
    "counts = df[\"jenis\"].value_counts()\n",
    "counts.plot(kind=\"bar\", color=[\"blue\",\"orange\",\"green\"])\n",
    "\n",
    "plt.xlabel(\"Jenis\")\n",
    "plt.ylabel(\"Jumlah\")\n",
    "plt.title(\"Jenis Kurma Beserta Jumlahnya\")\n",
    "plt.grid(axis=\"y\", linestyle=\"--\", alpha=0.5)\n",
    "plt.xticks(rotation=0)\n",
    "# plt.yticks(rotation=0)\n",
    "plt.show()"
   ]
  },
  {
   "cell_type": "code",
   "execution_count": 50,
   "id": "fecb8972-747f-472a-9552-7eaf1d6cdcc8",
   "metadata": {},
   "outputs": [
    {
     "name": "stdout",
     "output_type": "stream",
     "text": [
      "Accuracy : 0.94\n",
      "\n",
      "Classification Report :\n",
      "               precision    recall  f1-score   support\n",
      "\n",
      "        ajwa       1.00      0.91      0.95        22\n",
      "     medjool       0.90      0.95      0.93        39\n",
      "     sukkari       0.95      0.95      0.95        39\n",
      "\n",
      "    accuracy                           0.94       100\n",
      "   macro avg       0.95      0.94      0.94       100\n",
      "weighted avg       0.94      0.94      0.94       100\n",
      "\n",
      "\n",
      "Confusion Matrix :\n",
      " [[20  2  0]\n",
      " [ 0 37  2]\n",
      " [ 0  2 37]]\n"
     ]
    }
   ],
   "source": [
    "# Mempersiapkan Data untuk Machine Learning\n",
    "X = df[[\"berat\", \"kadar_gula\", \"warna\", \"tekstur\", \"tingkat_kematangan\"]]\n",
    "y = df[\"jenis\"]\n",
    "\n",
    "X_train, X_test, y_train, y_test = train_test_split(\n",
    "    X, y, test_size=0.2, random_state=42\n",
    ")\n",
    "\n",
    "numeric_columns = [\"berat\", \"kadar_gula\"]\n",
    "categorical_columns = [\"warna\"]\n",
    "ordinal_columns = [\"tekstur\", \"tingkat_kematangan\"]\n",
    "\n",
    "tekstur_order = [\"halus\", \"agak kasar\", \"kasar\"]\n",
    "tingkat_kematangan_order = [\"setengah matang\", \"matang\", \"terlalu matang\"]\n",
    "\n",
    "ordinal_order = [tekstur_order, tingkat_kematangan_order]\n",
    "\n",
    "preprocessing = ColumnTransformer(\n",
    "    transformers=[\n",
    "        (\"scaler\", StandardScaler(), numeric_columns),\n",
    "        (\"ohe\", OneHotEncoder(), categorical_columns),\n",
    "        (\"oe\", OrdinalEncoder(categories=ordinal_order),ordinal_columns)\n",
    "])\n",
    "\n",
    "model = Pipeline(\n",
    "    steps=[\n",
    "        (\"preprocessing\", preprocessing),\n",
    "        (\"model\", LogisticRegression()),\n",
    "    ]\n",
    ")\n",
    "\n",
    "model.fit(X_train, y_train)\n",
    "y_pred = model.predict(X_test)\n",
    "print(\"Accuracy :\", accuracy_score(y_test, y_pred))\n",
    "\n",
    "print(\"\\nClassification Report :\\n\", classification_report(y_test, y_pred))\n",
    "\n",
    "print(\"\\nConfusion Matrix :\\n\", confusion_matrix(y_test, y_pred))"
   ]
  },
  {
   "cell_type": "code",
   "execution_count": 53,
   "id": "89a44df1-2823-4c02-9f39-77e98991b8bb",
   "metadata": {},
   "outputs": [
    {
     "name": "stdout",
     "output_type": "stream",
     "text": [
      "SCores : [0.87 0.9  0.93 0.92 0.94]\n",
      "\n",
      "Mean Accuracy : 0.9120000000000001\n",
      "\n"
     ]
    }
   ],
   "source": [
    "scores = cross_val_score(model, X, y, cv=5, scoring=\"accuracy\")\n",
    "print(\"SCores :\", scores)\n",
    "print(\"\\nMean Accuracy :\", scores.mean())\n",
    "print(\"\")"
   ]
  },
  {
   "cell_type": "code",
   "execution_count": 60,
   "id": "a7c96868-cf5c-458c-bf02-2676a9c2eddc",
   "metadata": {},
   "outputs": [
    {
     "name": "stdout",
     "output_type": "stream",
     "text": [
      "Fitting 5 folds for each of 10 candidates, totalling 50 fits\n",
      "Best Paramaters : {'model__C': 0.1, 'model__penalty': 'l2', 'model__solver': 'lbfgs'}\n",
      "Best Score : 0.915\n",
      "Accuracy : 0.94\n",
      "\n",
      "Classification Report :\n",
      "               precision    recall  f1-score   support\n",
      "\n",
      "        ajwa       1.00      0.91      0.95        22\n",
      "     medjool       0.90      0.95      0.93        39\n",
      "     sukkari       0.95      0.95      0.95        39\n",
      "\n",
      "    accuracy                           0.94       100\n",
      "   macro avg       0.95      0.94      0.94       100\n",
      "weighted avg       0.94      0.94      0.94       100\n",
      "\n",
      "\n",
      "Confusion Matrix :\n",
      " [[20  2  0]\n",
      " [ 0 37  2]\n",
      " [ 0  2 37]]\n"
     ]
    }
   ],
   "source": [
    "param_grid = {\n",
    "    \"model__C\" : [0.01, 0.1, 1, 10, 100], \n",
    "    \"model__penalty\" : [\"l2\"], # berarti jika model penalty ini ada lagi bisa atau tidak?\n",
    "    \"model__solver\" : [\"lbfgs\", \"saga\"]\n",
    "}\n",
    "\n",
    "grid_search = GridSearchCV(\n",
    "    estimator=model,\n",
    "    param_grid=param_grid,\n",
    "    cv=5,\n",
    "    scoring=\"accuracy\",\n",
    "    n_jobs=-1,\n",
    "    verbose=2\n",
    ")\n",
    "\n",
    "grid_search.fit(X_train, y_train)\n",
    "\n",
    "print(\"Best Paramaters :\", grid_search.best_params_)\n",
    "print(\"Best Score :\", grid_search.best_score_)\n",
    "best_model = grid_search.best_estimator_\n",
    "\n",
    "y_pred = best_model.predict(X_test)\n",
    "print(\"Accuracy :\", accuracy_score(y_test, y_pred))\n",
    "print(\"\\nClassification Report :\\n\", classification_report(y_test, y_pred))\n",
    "print(\"\\nConfusion Matrix :\\n\", confusion_matrix(y_test, y_pred))"
   ]
  },
  {
   "cell_type": "code",
   "execution_count": 63,
   "id": "75b524d9-a198-401f-89dd-98b2cfb5a009",
   "metadata": {},
   "outputs": [
    {
     "name": "stdout",
     "output_type": "stream",
     "text": [
      "Model memprediksi sukkari dengan tingkat keyakinan 50.64%\n"
     ]
    }
   ],
   "source": [
    "joblib.dump(best_model, \"best_model.joblib\")\n",
    "model_tersimpan = joblib.load(\"best_model.joblib\")\n",
    "\n",
    "data_baru = pd.DataFrame([[13,65,\"kecoklatan\",\"kasar\",\"setengah matang\"]], columns=[\"berat\",\"kadar_gula\", \"warna\",\"tekstur\",\"tingkat_kematangan\"])\n",
    "prediksi = model_tersimpan.predict(data_baru)[0]\n",
    "presentase = max(model_tersimpan.predict_proba(data_baru)[0])\n",
    "print(f\"Model memprediksi {prediksi} dengan tingkat keyakinan {presentase*100:.2f}%\")"
   ]
  },
  {
   "cell_type": "code",
   "execution_count": 65,
   "id": "a2b07fdd-6395-44da-b9f0-c5dc138146fb",
   "metadata": {},
   "outputs": [
    {
     "name": "stdout",
     "output_type": "stream",
     "text": [
      "Model memprediksi ajwa dengan tingkat keyakinan 89.72%\n"
     ]
    }
   ],
   "source": [
    "data_baru = pd.DataFrame([[13,65,\"kehitaman\",\"kasar\",\"setengah matang\"]], columns=[\"berat\",\"kadar_gula\",\"warna\",\"tekstur\",\"tingkat_kematangan\"])\n",
    "prediksi = model_tersimpan.predict(data_baru)[0]\n",
    "presentase = max(model_tersimpan.predict_proba(data_baru)[0])\n",
    "print(f\"Model memprediksi {prediksi} dengan tingkat keyakinan {presentase*100:.2f}%\")"
   ]
  },
  {
   "cell_type": "code",
   "execution_count": 67,
   "id": "9276150a-8350-474d-bf45-2d1676c620a2",
   "metadata": {},
   "outputs": [
    {
     "name": "stdout",
     "output_type": "stream",
     "text": [
      "Model memprediksi medjool dengan tingkat keyakinan 98.49%\n"
     ]
    }
   ],
   "source": [
    "data_baru = pd.DataFrame([[18,95, \"kehitaman\",\"kasar\",\"matang\"]], columns=[\"berat\",\"kadar_gula\",\"warna\",\"tekstur\",\"tingkat_kematangan\"])\n",
    "prediksi = model_tersimpan.predict(data_baru)[0]\n",
    "presentase = max(model_tersimpan.predict_proba(data_baru)[0])\n",
    "print(f\"Model memprediksi {prediksi} dengan tingkat keyakinan {presentase*100:.2f}%\")"
   ]
  },
  {
   "cell_type": "code",
   "execution_count": null,
   "id": "d51cfd3b-1c78-47fd-83e2-567fc37b9bdd",
   "metadata": {},
   "outputs": [],
   "source": []
  }
 ],
 "metadata": {
  "kernelspec": {
   "display_name": "Python 3 (ipykernel)",
   "language": "python",
   "name": "python3"
  },
  "language_info": {
   "codemirror_mode": {
    "name": "ipython",
    "version": 3
   },
   "file_extension": ".py",
   "mimetype": "text/x-python",
   "name": "python",
   "nbconvert_exporter": "python",
   "pygments_lexer": "ipython3",
   "version": "3.13.7"
  }
 },
 "nbformat": 4,
 "nbformat_minor": 5
}
